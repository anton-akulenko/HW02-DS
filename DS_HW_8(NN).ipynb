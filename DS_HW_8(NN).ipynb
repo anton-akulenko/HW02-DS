{
  "cells": [
    {
      "cell_type": "markdown",
      "metadata": {
        "id": "view-in-github",
        "colab_type": "text"
      },
      "source": [
        "<a href=\"https://colab.research.google.com/github/anton-akulenko/HW02-DS/blob/main/DS_HW_8(NN).ipynb\" target=\"_parent\"><img src=\"https://colab.research.google.com/assets/colab-badge.svg\" alt=\"Open In Colab\"/></a>"
      ]
    },
    {
      "cell_type": "markdown",
      "metadata": {
        "id": "b0Yf4NBJUSNM"
      },
      "source": [
        "# Створення нейронної мережі\n",
        "\n",
        "У цьому завданні ми створимо повнозв'язну нейронну мережу, використовуючи при цьому низькорівневі механізми tensorflow.\n",
        "\n",
        "Архітектура нейромережі представлена на наступному малюнку. Як бачиш, у ній є один вхідний шар, два приховані, а також вихідний шар. В якості активаційної функції у прихованих шарах буде використовуватись сигмоїда. На вихідному шарі ми використовуємо softmax.\n",
        "\n",
        "Частина коду зі створення мережі вже написана, тобі потрібно заповнити пропуски у вказаних місцях."
      ]
    },
    {
      "cell_type": "markdown",
      "metadata": {
        "id": "01rZWUu0USNQ"
      },
      "source": [
        "## Архітектура нейронної мережі\n",
        "\n",
        "<img src=\"http://cs231n.github.io/assets/nn1/neural_net2.jpeg\" alt=\"nn\" style=\"width: 400px;\"/>\n"
      ]
    },
    {
      "cell_type": "markdown",
      "metadata": {
        "id": "LLvIZ705Qw_V"
      },
      "source": [
        "## Про датасет MNIST\n",
        "\n",
        "Дану нейромережу ми будемо вивчати на датасеті MNIST. Цей датасет являє собою велику кількість зображень рукописних цифр розміром $28 \\times 28$ пікселів. Кожен піксель приймає значення від 0 до 255.\n",
        "\n",
        "Як і раніше, датасет буде розділений на навчальну та тестову вибірки. При цьому ми виконаємо нормалізацію всіх зображень, щоб значення пікселів знаходилось у проміжку від 0 до 1, розділивши яскравість кожного пікселя на 255.\n",
        "\n",
        "Окрім того, архітектура нейронної мережі очікує на вхід вектор. У нашому ж випадку кожен об'єкт вибірки являє собою матрицю. Що ж робити? У цьому завданні ми \"розтягнемо\" матрицю $28 \\times 28$, отримавши при цьому вектор, що складається з 784 елементів.\n",
        "\n",
        "![MNIST Dataset](https://www.researchgate.net/profile/Steven-Young-5/publication/306056875/figure/fig1/AS:393921575309346@1470929630835/Example-images-from-the-MNIST-dataset.png)\n",
        "\n",
        "Більше інформації про датасет можна знайти [тут](http://yann.lecun.com/exdb/mnist/)."
      ]
    },
    {
      "cell_type": "code",
      "execution_count": 1,
      "metadata": {
        "id": "il_0_5OyUSNR"
      },
      "outputs": [],
      "source": [
        "import tensorflow as tf\n",
        "import numpy as np\n",
        "import matplotlib.pyplot as plt\n",
        "import keras as K"
      ]
    },
    {
      "cell_type": "code",
      "execution_count": 2,
      "metadata": {
        "id": "cd-1_abTUSNS"
      },
      "outputs": [],
      "source": [
        "num_classes = 10 # загальна кількість класів, у нашому випадку це цифри від 0 до 9\n",
        "num_features = 784 # кількість атрибутів вхідного вектора 28 * 28 = 784\n",
        "\n",
        "learning_rate = 0.0007 #0.001 швидкість навчання нейронної мережі\n",
        "training_steps = 3000 #3000 максимальне число епох\n",
        "batch_size = 256 #256 # перераховувати ваги мережі ми будемо не на всій вибірці, а на її випадковій підмножині з batch_size елементів\n",
        "display_step = 100 # кожні 100 ітерацій ми будемо показувати поточне значення функції втрат і точності\n",
        "\n",
        "n_hidden_1 = 500 # кількість нейронів 1-го шару\n",
        "n_hidden_2 = 1000 # кількість нейронів 2-го шару"
      ]
    },
    {
      "cell_type": "code",
      "execution_count": 3,
      "metadata": {
        "id": "pGTXiRyTUSNT"
      },
      "outputs": [],
      "source": [
        "# from tensorflow.keras.datasets import mnist\n",
        "from keras.datasets import mnist\n",
        "\n",
        "# Завантажуємо датасет\n",
        "(x_train, y_train), (x_test, y_test) = mnist.load_data()\n",
        "\n",
        "# Перетворюємо цілочисельні пікселі на тип float32\n",
        "x_train, x_test = np.array(x_train, np.float32), np.array(x_test, np.float32)\n",
        "\n",
        "# Перетворюємо матриці розміром 28x28 пікселів у вектор з 784 елементів\n",
        "x_train, x_test = x_train.reshape([-1, num_features]), x_test.reshape([-1, num_features])\n",
        "\n",
        "# Нормалізуємо значення пікселів\n",
        "x_train, x_test = x_train / 255., x_test / 255.\n",
        "\n",
        "# Перемішаємо тренувальні дані\n",
        "train_data = tf.data.Dataset.from_tensor_slices((x_train, y_train))\n",
        "train_data = train_data.repeat().shuffle(5000).batch(batch_size).prefetch(1)"
      ]
    },
    {
      "cell_type": "code",
      "execution_count": 4,
      "metadata": {
        "id": "FkRmCQjnUSNV"
      },
      "outputs": [],
      "source": [
        "# Створимо нейронну мережу\n",
        "\n",
        "class DenseLayer(tf.Module):\n",
        "    def __init__(self, in_features, out_features, name=None):\n",
        "        super().__init__(name=name)\n",
        "        self.w = tf.Variable(\n",
        "            tf.random.normal([in_features, out_features]), name=\"w\"\n",
        "        )\n",
        "        self.b = tf.Variable(tf.zeros([out_features]), name=\"b\")\n",
        "\n",
        "    def __call__(self, x, activation=0):\n",
        "        y = tf.matmul(x, self.w) + self.b\n",
        "        if activation != 0:\n",
        "            return tf.nn.softmax(y)\n",
        "        else:\n",
        "            return tf.nn.sigmoid(y)\n",
        "\n",
        "class NN(tf.Module):\n",
        "  def __init__(self, name=None):\n",
        "    super().__init__(name=name)\n",
        "    # Перший шар, який складається з 128 нейронів\n",
        "    self.layer1 = DenseLayer(num_features, n_hidden_1, name='layer1')\n",
        "    # Другий шар, який складається з 256 нейронів\n",
        "    self.layer2 = DenseLayer(n_hidden_1, n_hidden_2, name='layer2')\n",
        "    # Вихідний шар\n",
        "    self.out_layer = DenseLayer(n_hidden_2, num_classes, name='out_layer')\n",
        "\n",
        "\n",
        "  def __call__(self, x):\n",
        "    # Передача даних через перші два шари та вихідний шар з функцією активації softmax\n",
        "    x = self.layer1(x, activation=0)\n",
        "    x = self.layer2(x, activation=0)\n",
        "    x = self.out_layer(x, activation=1)\n",
        "\n",
        "    return x"
      ]
    },
    {
      "cell_type": "code",
      "execution_count": 5,
      "metadata": {
        "id": "LIf3o7VAUSNV"
      },
      "outputs": [],
      "source": [
        "# В якості функції помилки в даному випадку зручно взяти крос-ентропію\n",
        "def cross_entropy(y_pred, y_true):\n",
        "    # Закодувати етикетку в один гарячий вектор.\n",
        "    y_true = tf.one_hot(y_true, depth=num_classes)\n",
        "\n",
        "    # Значення передбачення кліпу, щоб уникнути помилки log(0).\n",
        "    y_pred = tf.clip_by_value(y_pred, 1e-9, 1.)\n",
        "\n",
        "    # Обчислення крос-ентропії\n",
        "    return tf.reduce_mean(-tf.reduce_sum(y_true * tf.math.log(y_pred)))\n",
        "\n",
        "# Як метрику якості використовуємо точність\n",
        "def accuracy(y_pred, y_true):\n",
        "    # Порівнюємо передбачені значення з істинними мітками\n",
        "    correct_prediction = tf.equal(tf.argmax(y_pred, 1), tf.cast(y_true, tf.int64))\n",
        "    # Обчислюємо середню точність з використанням згортання\n",
        "    return tf.reduce_mean(tf.cast(correct_prediction, tf.float32))"
      ]
    },
    {
      "cell_type": "code",
      "execution_count": 6,
      "metadata": {
        "id": "MQeT1yatUSNW"
      },
      "outputs": [],
      "source": [
        "# Створимо екземпляр нейронної мережі\n",
        "neural_net = NN(name=\"mnist\")\n",
        "\n",
        "# Функція навчання нейромережі\n",
        "def train(neural_net, input_x, output_y):\n",
        "  # Для налаштування вагів мережі будемо використовувати стохастичний градієнтний спуск\n",
        "  optimizer = tf.optimizers.SGD(learning_rate)\n",
        "\n",
        "  # Активація автоматичного диференціювання\n",
        "  with tf.GradientTape() as g:\n",
        "    pred = neural_net(input_x)\n",
        "    loss = cross_entropy(pred, output_y)\n",
        "\n",
        "    # Отримаємо список оптимізованих параметрів\n",
        "    trainable_variables = neural_net.trainable_variables\n",
        "\n",
        "    # Обчислимо за ними значення градієнта\n",
        "    gradients = g.gradient(loss, trainable_variables)\n",
        "\n",
        "    # Модифікуємо параметри\n",
        "    optimizer.apply_gradients(zip(gradients, trainable_variables))"
      ]
    },
    {
      "cell_type": "code",
      "execution_count": 7,
      "metadata": {
        "colab": {
          "base_uri": "https://localhost:8080/"
        },
        "id": "fnyns9lBfpQZ",
        "outputId": "02589a60-6b27-4db8-efc2-bc0e9253addf"
      },
      "outputs": [
        {
          "output_type": "stream",
          "name": "stdout",
          "text": [
            "Step 1, Loss: 3403.4443359375, Accuracy: 0.1796875\n",
            "Step 2, Loss: 439.866943359375, Accuracy: 0.78125\n",
            "Step 3, Loss: 289.3561096191406, Accuracy: 0.86328125\n",
            "Step 4, Loss: 184.70425415039062, Accuracy: 0.90234375\n",
            "Step 5, Loss: 271.412841796875, Accuracy: 0.87109375\n",
            "Step 6, Loss: 186.1053009033203, Accuracy: 0.90625\n",
            "Step 7, Loss: 191.01597595214844, Accuracy: 0.890625\n",
            "Step 8, Loss: 175.08912658691406, Accuracy: 0.91015625\n",
            "Step 9, Loss: 213.1322021484375, Accuracy: 0.88671875\n",
            "Step 10, Loss: 109.41809844970703, Accuracy: 0.93359375\n",
            "Step 11, Loss: 140.38743591308594, Accuracy: 0.92578125\n",
            "Step 12, Loss: 120.11359405517578, Accuracy: 0.9453125\n",
            "Step 13, Loss: 123.34593200683594, Accuracy: 0.94140625\n",
            "Step 14, Loss: 58.27261734008789, Accuracy: 0.95703125\n",
            "Step 15, Loss: 92.05438232421875, Accuracy: 0.95703125\n",
            "Step 16, Loss: 76.42546081542969, Accuracy: 0.96484375\n",
            "Step 17, Loss: 37.886619567871094, Accuracy: 0.96484375\n",
            "Step 18, Loss: 82.6058578491211, Accuracy: 0.953125\n",
            "Step 19, Loss: 36.721649169921875, Accuracy: 0.97265625\n",
            "Step 20, Loss: 63.27536392211914, Accuracy: 0.96484375\n",
            "Step 21, Loss: 88.05792236328125, Accuracy: 0.9609375\n",
            "Step 22, Loss: 21.43700408935547, Accuracy: 0.9921875\n",
            "Step 23, Loss: 7.623896598815918, Accuracy: 0.98828125\n",
            "Step 24, Loss: 134.3193359375, Accuracy: 0.9453125\n",
            "Step 25, Loss: 53.75596237182617, Accuracy: 0.96484375\n",
            "Step 26, Loss: 37.92102813720703, Accuracy: 0.98046875\n",
            "Step 27, Loss: 49.67230987548828, Accuracy: 0.98046875\n",
            "Step 28, Loss: 43.9527702331543, Accuracy: 0.98046875\n",
            "Step 29, Loss: 30.661563873291016, Accuracy: 0.98046875\n",
            "Step 30, Loss: 7.5479865074157715, Accuracy: 0.9921875\n"
          ]
        }
      ],
      "source": [
        "# Тренування мережі\n",
        "\n",
        "loss_history = []  # кожні display_step кроків зберігай в цьому списку поточну помилку нейромережі\n",
        "accuracy_history = [] # кожні display_step кроків зберігай в цьому списку поточну точність нейромережі\n",
        "\n",
        "# У цьому циклі ми будемо проводити навчання нейронної мережі\n",
        "# із тренувального датасета train_data вилучи випадкову підмножину, на якій\n",
        "# відбудеться тренування. Використовуй метод take, доступний для тренувального датасета.\n",
        "for step, (batch_x, batch_y) in enumerate(train_data.take(training_steps)):\n",
        "    # Оновлюємо ваги нейронної мережі\n",
        "    train(neural_net, batch_x, batch_y)\n",
        "\n",
        "    if step % display_step == 0:\n",
        "        pred = neural_net(batch_x)\n",
        "        loss = cross_entropy(pred, batch_y)\n",
        "        loss_history.append(loss)\n",
        "        acc = accuracy(pred, batch_y)\n",
        "        accuracy_history.append(acc)\n",
        "        print(f\"Step {round(step / 100)+1}, Loss: {loss}, Accuracy: {acc}\")\n"
      ]
    },
    {
      "cell_type": "code",
      "execution_count": 8,
      "metadata": {
        "id": "_yCBfG6MbQB2",
        "colab": {
          "base_uri": "https://localhost:8080/",
          "height": 487
        },
        "outputId": "2ff6b282-d5b8-42d9-f224-e45f6416801b"
      },
      "outputs": [
        {
          "output_type": "display_data",
          "data": {
            "text/plain": [
              "<Figure size 640x480 with 2 Axes>"
            ],
            "image/png": "[encoded data removed]"
          },
          "metadata": {}
        }
      ],
      "source": [
        "# Виведи графіки залежності зміни точності і втрат від кроку\n",
        "# Якщо все зроблено правильно, то точність повинна зростати, а втрати зменшуватись\n",
        "\n",
        "import matplotlib.pyplot as plt\n",
        "\n",
        "fig, axs = plt.subplots()\n",
        "axs.plot(loss_history, 'y', label='loss_func')\n",
        "axs.legend()\n",
        "\n",
        "axs2=axs.twinx()\n",
        "axs2.plot(accuracy_history, 'b', label='accuracy')\n",
        "plt.legend()\n",
        "\n",
        "\n",
        "plt.tight_layout()\n",
        "plt.show()\n"
      ]
    },
    {
      "cell_type": "code",
      "execution_count": 9,
      "metadata": {
        "id": "LE3g4gDyUSNY",
        "colab": {
          "base_uri": "https://localhost:8080/"
        },
        "outputId": "b4697b24-cd0f-4663-bffb-9bc0074cedcc"
      },
      "outputs": [
        {
          "output_type": "stream",
          "name": "stdout",
          "text": [
            "NN accuracy: 97.31%\n",
            "Test data accuracy: 89.71%\n"
          ]
        }
      ],
      "source": [
        "neural_net_accuracy = accuracy(neural_net(x_train), y_train)\n",
        "print(f\"NN accuracy: {neural_net_accuracy*100:.2f}%\")\n",
        "test_pred = neural_net(x_test)\n",
        "print(f\"Test data accuracy: {accuracy(test_pred, y_test)*100:.2f}%\")"
      ]
    },
    {
      "cell_type": "code",
      "execution_count": 15,
      "metadata": {
        "id": "_EEHAubOUSNY",
        "colab": {
          "base_uri": "https://localhost:8080/",
          "height": 240
        },
        "outputId": "0e9ada1c-22e4-46d7-94d2-bc9cce341cc5"
      },
      "outputs": [
        {
          "output_type": "display_data",
          "data": {
            "text/plain": [
              "<Figure size 2400x600 with 15 Axes>"
            ],
            "image/png": "[encoded data removed]"
          },
          "metadata": {}
        },
        {
          "output_type": "stream",
          "name": "stdout",
          "text": [
            "Accuracy of 15 digits above is 93.33%\n",
            "Mistakes: \n",
            "Real: \u001b[92m[8]\u001b[0m \n",
            "Pred: \u001b[91m[3]\u001b[0m\n"
          ]
        }
      ],
      "source": [
        "# Протестуємо навчену нейромережу на 10 зображеннях. З тестової вибірки візьми 5\n",
        "# випадкових зображень і передай їх у нейронну мережу.\n",
        "# Виведи зображення та випиши поруч відповідь нейромережі.\n",
        "# Зроби висновок про те, чи помиляється твоя нейронна мережа, і якщо так, то як часто?\n",
        "\n",
        "import random\n",
        "test_examples =15\n",
        "random_indices = random.sample(range(len(x_test)), test_examples)\n",
        "test_images = x_test[random_indices]\n",
        "test_labels = y_test[random_indices]\n",
        "\n",
        "# Прогнозуємо класи для вибраних зображень\n",
        "predictions = neural_net(test_images)\n",
        "predicted_labels = tf.argmax(predictions, axis=1).numpy()\n",
        "\n",
        "# Виведемо зображення та випишемо поруч відповідь нейромережі\n",
        "plt.figure(figsize=(24, 6))\n",
        "d, pr = [], []\n",
        "for i in range(test_examples):\n",
        "    plt.subplot(1, test_examples, i + 1)\n",
        "    plt.imshow(test_images[i].reshape((28, 28)), cmap='gray')\n",
        "    if test_labels[i] - predicted_labels[i] != 0:\n",
        "      d.append(test_labels[i]), pr.append(predicted_labels[i])\n",
        "    plt.title(f\"Real: {test_labels[i]}\\nPred: {predicted_labels[i]}\\n {False if test_labels[i] - predicted_labels[i] != 0 else True}\", fontsize = 6)\n",
        "    plt.axis('off')\n",
        "\n",
        "plt.show()\n",
        "\n",
        "# Порівняємо прогнози з правильними мітками та обчислимо точність\n",
        "correct_predictions = (predicted_labels == test_labels)\n",
        "accuracy = sum(correct_predictions) / len(correct_predictions)\n",
        "print(f\"Accuracy of {test_examples} digits above is {accuracy * 100:.2f}%\")\n",
        "print(f\"Mistakes: \\nReal: \\033[92m{d}\\033[0m \\nPred: \\033[91m{pr}\\033[0m\")\n"
      ]
    }
  ],
  "metadata": {
    "colab": {
      "provenance": [],
      "include_colab_link": true
    },
    "kernelspec": {
      "display_name": "Python 3",
      "name": "python3"
    },
    "language_info": {
      "codemirror_mode": {
        "name": "ipython",
        "version": 3
      },
      "file_extension": ".py",
      "mimetype": "text/x-python",
      "name": "python",
      "nbconvert_exporter": "python",
      "pygments_lexer": "ipython3",
      "version": "3.8.0"
    }
  },
  "nbformat": 4,
  "nbformat_minor": 0
}