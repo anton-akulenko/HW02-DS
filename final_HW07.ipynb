{
  "nbformat": 4,
  "nbformat_minor": 0,
  "metadata": {
    "colab": {
      "provenance": [],
      "collapsed_sections": [
        "zCEBbNIUyf27",
        "skt9sM7UwXQh"
      ],
      "authorship_tag": "ABX9TyMY7BOp76J6ctJwMD5lhh5j",
      "include_colab_link": true
    },
    "kernelspec": {
      "name": "python3",
      "display_name": "Python 3"
    },
    "language_info": {
      "name": "python"
    }
  },
  "cells": [
    {
      "cell_type": "markdown",
      "metadata": {
        "id": "view-in-github",
        "colab_type": "text"
      },
      "source": [
        "<a href=\"https://colab.research.google.com/github/anton-akulenko/HW02-DS/blob/main/final_HW07.ipynb\" target=\"_parent\"><img src=\"https://colab.research.google.com/assets/colab-badge.svg\" alt=\"Open In Colab\"/></a>"
      ]
    },
    {
      "cell_type": "markdown",
      "source": [
        "# Surprise"
      ],
      "metadata": {
        "id": "UraZTcwyiN0t"
      }
    },
    {
      "cell_type": "markdown",
      "source": [
        "\n",
        "\n",
        "```\n",
        "Algorithm SVD:\n",
        "RMSE: 0.9097173916165577\n",
        "Best params:  {'n_epochs': 50, 'lr_all': 0.01, 'reg_all': 0.1}\n",
        "MAE: 0.7190490478958932\n",
        "Best params:  {'n_epochs': 50, 'lr_all': 0.01, 'reg_all': 0.1}\n",
        "----------------\n",
        "\n",
        "Algorithm SVDpp:\n",
        "RMSE: 0.910539402411005\n",
        "Best params:  {'n_epochs': 50, 'lr_all': 0.01, 'reg_all': 0.1}\n",
        "MAE: 0.718176003207261\n",
        "Best params:  {'n_epochs': 50, 'lr_all': 0.01, 'reg_all': 0.1}\n",
        "----------------\n",
        "\n",
        "Algorithm NMF:\n",
        "RMSE: 0.9601577266832958\n",
        "Best params:  {'n_epochs': 50, 'lr_bu': 0.002, 'lr_bi': 0.01, 'reg_bu': 0.6, 'reg_bi': 0.1}\n",
        "MAE: 0.7543876597714045\n",
        "Best params:  {'n_epochs': 50, 'lr_bu': 0.002, 'lr_bi': 0.01, 'reg_bu': 0.6, 'reg_bi': 0.1}\n",
        "----------------\n",
        "\n"
      ],
      "metadata": {
        "id": "7UUPLnV5zvgI"
      }
    },
    {
      "cell_type": "markdown",
      "source": [],
      "metadata": {
        "id": "phuOdf58zuUv"
      }
    },
    {
      "cell_type": "code",
      "source": [
        "pip install surprise"
      ],
      "metadata": {
        "id": "teYGJng_iUvZ"
      },
      "execution_count": null,
      "outputs": []
    },
    {
      "cell_type": "code",
      "source": [
        "from surprise import SVD, SVDpp, NMF\n",
        "from surprise import Dataset\n",
        "from surprise.model_selection import train_test_split, cross_validate, GridSearchCV, KFold\n",
        "from surprise import accuracy\n",
        "\n",
        "data = Dataset.load_builtin('ml-100k')\n",
        "trainset, testset = train_test_split(data, test_size=0.25)"
      ],
      "metadata": {
        "id": "WmO-VzsZiev_"
      },
      "execution_count": 34,
      "outputs": []
    },
    {
      "cell_type": "code",
      "source": [
        "for uid, user_ratings in top_predictions.items():\n",
        "  print(uid, [iid for (iid, _) in user_ratings])"
      ],
      "metadata": {
        "id": "C89ZI30dltxd"
      },
      "execution_count": null,
      "outputs": []
    },
    {
      "cell_type": "code",
      "source": [
        "testset"
      ],
      "metadata": {
        "id": "xWz3YeyOmKm8"
      },
      "execution_count": null,
      "outputs": []
    },
    {
      "cell_type": "markdown",
      "source": [
        "# ***Grid search for SVD, SVDpp, NMF***"
      ],
      "metadata": {
        "id": "skt9sM7UwXQh"
      }
    },
    {
      "cell_type": "code",
      "source": [
        "algo = SVD()"
      ],
      "metadata": {
        "id": "QwRi5UX-vTPl"
      },
      "execution_count": 43,
      "outputs": []
    },
    {
      "cell_type": "code",
      "source": [
        "kf = KFold(n_splits=10)\n",
        "\n",
        "for trainset, testset in kf.split(data):\n",
        "\n",
        "    # train and test algorithm.\n",
        "    algo.fit(trainset)\n",
        "    predictions = algo.test(testset)\n",
        "\n",
        "    # Compute and print Root Mean Squared Error\n",
        "    accuracy.rmse(predictions, verbose=True)"
      ],
      "metadata": {
        "id": "0DDONYN6vM0x"
      },
      "execution_count": null,
      "outputs": []
    },
    {
      "cell_type": "code",
      "source": [
        "\n",
        "# Run 5-fold cross-validation and print results\n",
        "cross_validate(algo, data, measures=['RMSE', 'mae', 'mse'], cv=3, verbose=True)"
      ],
      "metadata": {
        "colab": {
          "base_uri": "https://localhost:8080/"
        },
        "id": "bZ-3QMMHpAQI",
        "outputId": "c30cf2de-eba7-4e69-bb66-2577b5cec65b"
      },
      "execution_count": 46,
      "outputs": [
        {
          "output_type": "stream",
          "name": "stdout",
          "text": [
            "Evaluating RMSE, MAE, MSE of algorithm SVD on 3 split(s).\n",
            "\n",
            "                  Fold 1  Fold 2  Fold 3  Mean    Std     \n",
            "RMSE (testset)    0.9454  0.9476  0.9470  0.9467  0.0009  \n",
            "MAE (testset)     0.7466  0.7472  0.7466  0.7468  0.0003  \n",
            "MSE (testset)     0.8938  0.8979  0.8969  0.8962  0.0017  \n",
            "Fit time          1.07    1.07    1.52    1.22    0.21    \n",
            "Test time         0.20    0.33    0.34    0.29    0.06    \n"
          ]
        },
        {
          "output_type": "execute_result",
          "data": {
            "text/plain": [
              "{'test_rmse': array([0.94540472, 0.94758083, 0.94703201]),\n",
              " 'test_mae': array([0.74661347, 0.74716507, 0.74658085]),\n",
              " 'test_mse': array([0.89379008, 0.89790942, 0.89686963]),\n",
              " 'fit_time': (1.0711054801940918, 1.0709896087646484, 1.5190129280090332),\n",
              " 'test_time': (0.20157194137573242, 0.33306002616882324, 0.33805203437805176)}"
            ]
          },
          "metadata": {},
          "execution_count": 46
        }
      ]
    },
    {
      "cell_type": "code",
      "source": [
        "param_grid = {\"n_epochs\": [5, 10, 20, 50], \"lr_all\": [0.002, 0.005, 0.01], \"reg_all\": [0.02, 0.1, 0.4, 0.6]}\n",
        "gs_svd = GridSearchCV(SVD, param_grid, measures=[\"rmse\", \"mae\"], cv=5)\n",
        "gs_svd.fit(data)\n"
      ],
      "metadata": {
        "id": "fHaM7MYztnge"
      },
      "execution_count": 81,
      "outputs": []
    },
    {
      "cell_type": "code",
      "source": [
        "param_grid_svdpp = {\"n_epochs\": [5, 10, 20, 50], \"lr_all\": [0.002, 0.005, 0.01], \"reg_all\": [0.02, 0.1, 0.4, 0.6]}\n",
        "gs_svdpp = GridSearchCV(SVDpp, param_grid_svdpp, measures=[\"rmse\", \"mae\"], cv=5)\n",
        "gs_svdpp.fit(data)"
      ],
      "metadata": {
        "id": "FPKT0AohxILw"
      },
      "execution_count": 83,
      "outputs": []
    },
    {
      "cell_type": "code",
      "source": [
        "param_grid_nmf = {\"n_epochs\": [5, 10, 20, 50], \"lr_bu\": [0.002, 0.005, 0.01], \"lr_bi\": [0.002, 0.005, 0.01], \"reg_bu\": [0.02, 0.1, 0.4, 0.6], \"reg_bi\": [0.02, 0.1, 0.4, 0.6]}\n",
        "gs_nmf = GridSearchCV(NMF, param_grid_nmf, measures=[\"rmse\", \"mae\"], cv=5)\n",
        "gs_nmf.fit(data)"
      ],
      "metadata": {
        "id": "T-xmDCqVxJlK"
      },
      "execution_count": 85,
      "outputs": []
    },
    {
      "cell_type": "code",
      "source": [
        "gs_list = [gs_svd, gs_svdpp, gs_nmf]\n",
        "for i in gs_list:\n",
        "  print(f\"Algorithm {i.algo_class.__name__}:\")\n",
        "  print(f\"RMSE:\", i.best_score[\"rmse\"])\n",
        "  print(\"Best params: \", i.best_params[\"rmse\"])\n",
        "  print(f\"MAE:\", i.best_score[\"mae\"])\n",
        "  print(\"Best params: \",i.best_params[\"rmse\"])\n",
        "  print(\"----------------\\n\")\n"
      ],
      "metadata": {
        "colab": {
          "base_uri": "https://localhost:8080/"
        },
        "id": "IT3oMbgqtux_",
        "outputId": "8e53eae2-a492-44a4-b32e-40807623f42a"
      },
      "execution_count": 86,
      "outputs": [
        {
          "output_type": "stream",
          "name": "stdout",
          "text": [
            "Algorithm SVD:\n",
            "RMSE: 0.9097173916165577\n",
            "Best params:  {'n_epochs': 50, 'lr_all': 0.01, 'reg_all': 0.1}\n",
            "MAE: 0.7190490478958932\n",
            "Best params:  {'n_epochs': 50, 'lr_all': 0.01, 'reg_all': 0.1}\n",
            "----------------\n",
            "\n",
            "Algorithm SVDpp:\n",
            "RMSE: 0.910539402411005\n",
            "Best params:  {'n_epochs': 50, 'lr_all': 0.01, 'reg_all': 0.1}\n",
            "MAE: 0.718176003207261\n",
            "Best params:  {'n_epochs': 50, 'lr_all': 0.01, 'reg_all': 0.1}\n",
            "----------------\n",
            "\n",
            "Algorithm NMF:\n",
            "RMSE: 0.9601577266832958\n",
            "Best params:  {'n_epochs': 50, 'lr_bu': 0.002, 'lr_bi': 0.01, 'reg_bu': 0.6, 'reg_bi': 0.1}\n",
            "MAE: 0.7543876597714045\n",
            "Best params:  {'n_epochs': 50, 'lr_bu': 0.002, 'lr_bi': 0.01, 'reg_bu': 0.6, 'reg_bi': 0.1}\n",
            "----------------\n",
            "\n"
          ]
        }
      ]
    },
    {
      "cell_type": "markdown",
      "source": [
        "**Best params 3 alg**"
      ],
      "metadata": {
        "id": "pXMV_L3O0PP5"
      }
    },
    {
      "cell_type": "markdown",
      "source": [
        "\n",
        "\n",
        "```\n",
        "Algorithm SVD:\n",
        "RMSE: 0.9097173916165577\n",
        "Best params:  {'n_epochs': 50, 'lr_all': 0.01, 'reg_all': 0.1}\n",
        "MAE: 0.7190490478958932\n",
        "Best params:  {'n_epochs': 50, 'lr_all': 0.01, 'reg_all': 0.1}\n",
        "----------------\n",
        "\n",
        "Algorithm SVDpp:\n",
        "RMSE: 0.910539402411005\n",
        "Best params:  {'n_epochs': 50, 'lr_all': 0.01, 'reg_all': 0.1}\n",
        "MAE: 0.718176003207261\n",
        "Best params:  {'n_epochs': 50, 'lr_all': 0.01, 'reg_all': 0.1}\n",
        "----------------\n",
        "\n",
        "Algorithm NMF:\n",
        "RMSE: 0.9601577266832958\n",
        "Best params:  {'n_epochs': 50, 'lr_bu': 0.002, 'lr_bi': 0.01, 'reg_bu': 0.6, 'reg_bi': 0.1}\n",
        "MAE: 0.7543876597714045\n",
        "Best params:  {'n_epochs': 50, 'lr_bu': 0.002, 'lr_bi': 0.01, 'reg_bu': 0.6, 'reg_bi': 0.1}\n",
        "----------------\n",
        "\n"
      ],
      "metadata": {
        "id": "yBDFa1sN0U74"
      }
    },
    {
      "cell_type": "markdown",
      "source": [
        "Choose SVD"
      ],
      "metadata": {
        "id": "j_yxQTA9xuSm"
      }
    },
    {
      "cell_type": "markdown",
      "source": [],
      "metadata": {
        "id": "GEPc-vUL0ZEC"
      }
    },
    {
      "cell_type": "code",
      "source": [
        "algos = [SVD(n_epochs=50, lr_all=0.01, reg_all=0.1), NMF(n_epochs=50, lr_bu=0.002, lr_bi=0.01, reg_bu=0.6, reg_bi=0.1), SVDpp(n_epochs=50, lr_all=0.01, reg_all=0.1)]\n",
        "for alg in algos:\n",
        "  res = cross_validate(alg, data, measures=['RMSE', 'mae', 'mse'], cv=5, verbose=True)\n",
        "  print(f\"Algorithm: {alg.__class__.__name__}\")\n",
        "  print(f\"RMSE:\", res['test_rmse'].mean())"
      ],
      "metadata": {
        "colab": {
          "base_uri": "https://localhost:8080/"
        },
        "id": "yBu6-dh4mZQK",
        "outputId": "291f16ac-20b9-4a46-8a6c-72d31abc14b4"
      },
      "execution_count": 87,
      "outputs": [
        {
          "output_type": "stream",
          "name": "stdout",
          "text": [
            "Evaluating RMSE, MAE, MSE of algorithm SVD on 5 split(s).\n",
            "\n",
            "                  Fold 1  Fold 2  Fold 3  Fold 4  Fold 5  Mean    Std     \n",
            "RMSE (testset)    0.9077  0.9041  0.9091  0.9170  0.9111  0.9098  0.0043  \n",
            "MAE (testset)     0.7182  0.7139  0.7183  0.7259  0.7160  0.7185  0.0041  \n",
            "MSE (testset)     0.8240  0.8174  0.8265  0.8409  0.8300  0.8278  0.0078  \n",
            "Fit time          3.04    4.04    3.02    2.97    3.47    3.31    0.41    \n",
            "Test time         0.18    0.13    0.32    0.15    0.21    0.20    0.07    \n",
            "Algorithm: SVD\n",
            "RMSE: 0.909811160193849\n",
            "Evaluating RMSE, MAE, MSE of algorithm NMF on 5 split(s).\n",
            "\n",
            "                  Fold 1  Fold 2  Fold 3  Fold 4  Fold 5  Mean    Std     \n",
            "RMSE (testset)    0.9616  0.9698  0.9662  0.9598  0.9624  0.9640  0.0036  \n",
            "MAE (testset)     0.7549  0.7644  0.7604  0.7563  0.7535  0.7579  0.0040  \n",
            "MSE (testset)     0.9247  0.9405  0.9335  0.9213  0.9262  0.9293  0.0069  \n",
            "Fit time          2.59    1.77    1.76    1.77    1.73    1.92    0.33    \n",
            "Test time         0.10    0.33    0.16    0.12    0.10    0.16    0.09    \n",
            "Algorithm: NMF\n",
            "RMSE: 0.9639754822685498\n",
            "Evaluating RMSE, MAE, MSE of algorithm SVDpp on 5 split(s).\n",
            "\n",
            "                  Fold 1  Fold 2  Fold 3  Fold 4  Fold 5  Mean    Std     \n",
            "RMSE (testset)    0.9098  0.9102  0.9171  0.9195  0.8999  0.9113  0.0069  \n",
            "MAE (testset)     0.7180  0.7159  0.7208  0.7272  0.7105  0.7185  0.0055  \n",
            "MSE (testset)     0.8277  0.8284  0.8411  0.8456  0.8098  0.8305  0.0125  \n",
            "Fit time          68.62   68.39   71.33   69.38   68.42   69.23   1.11    \n",
            "Test time         5.30    5.65    4.00    4.23    4.47    4.73    0.63    \n",
            "Algorithm: SVDpp\n",
            "RMSE: 0.9113052029116446\n"
          ]
        }
      ]
    },
    {
      "cell_type": "code",
      "source": [
        "kf = KFold(n_splits=5)\n",
        "\n",
        "algo = SVD(n_epochs=50, lr_all=0.01, reg_all=0.1)\n",
        "\n",
        "\n",
        "for trainset, testset in kf.split(data):\n",
        "\n",
        "    # train and test algorithm.\n",
        "    algo.fit(trainset)\n",
        "    predictions = algo.test(testset)\n",
        "\n",
        "    # Compute and print Root Mean Squared Error\n",
        "    accuracy.rmse(predictions, verbose=True)"
      ],
      "metadata": {
        "colab": {
          "base_uri": "https://localhost:8080/"
        },
        "id": "SlzXIyM_uTU4",
        "outputId": "3e0acaa5-5e93-4a2c-d808-5ab6093a9f7b"
      },
      "execution_count": 116,
      "outputs": [
        {
          "output_type": "stream",
          "name": "stdout",
          "text": [
            "RMSE: 0.9087\n",
            "RMSE: 0.9097\n",
            "RMSE: 0.9146\n",
            "RMSE: 0.9049\n",
            "RMSE: 0.9093\n"
          ]
        }
      ]
    },
    {
      "cell_type": "code",
      "source": [
        "predictions[:10]"
      ],
      "metadata": {
        "colab": {
          "base_uri": "https://localhost:8080/"
        },
        "id": "LwkIAcPuvEG0",
        "outputId": "5ed74ee1-ee78-4211-f499-0bb3e85fbca8"
      },
      "execution_count": 94,
      "outputs": [
        {
          "output_type": "execute_result",
          "data": {
            "text/plain": [
              "[Prediction(uid='796', iid='419', r_ui=5.0, est=3.8088212482423436, details={'was_impossible': False}),\n",
              " Prediction(uid='379', iid='210', r_ui=4.0, est=4.044687683494169, details={'was_impossible': False}),\n",
              " Prediction(uid='880', iid='302', r_ui=5.0, est=4.332332882808105, details={'was_impossible': False}),\n",
              " Prediction(uid='523', iid='549', r_ui=4.0, est=4.207372626275753, details={'was_impossible': False}),\n",
              " Prediction(uid='144', iid='403', r_ui=3.0, est=3.3728542018061067, details={'was_impossible': False}),\n",
              " Prediction(uid='391', iid='71', r_ui=3.0, est=3.6293964291601704, details={'was_impossible': False}),\n",
              " Prediction(uid='1', iid='90', r_ui=4.0, est=3.6285113387337598, details={'was_impossible': False}),\n",
              " Prediction(uid='267', iid='324', r_ui=3.0, est=3.5320617710998774, details={'was_impossible': False}),\n",
              " Prediction(uid='416', iid='843', r_ui=3.0, est=3.6727682657909027, details={'was_impossible': False}),\n",
              " Prediction(uid='532', iid='330', r_ui=4.0, est=3.7318020602483153, details={'was_impossible': False})]"
            ]
          },
          "metadata": {},
          "execution_count": 94
        }
      ]
    },
    {
      "cell_type": "code",
      "source": [
        "uid = str(1)  # raw user id (as in the ratings file). They are **strings**!\n",
        "iid = str(90)  # raw item id (as in the ratings file). They are **strings**!\n",
        "\n",
        "# get a prediction for specific users and items.\n",
        "pred = algo.predict(uid, iid, verbose=True)"
      ],
      "metadata": {
        "colab": {
          "base_uri": "https://localhost:8080/"
        },
        "id": "f4E82LcvvuyJ",
        "outputId": "2446968a-4ff7-452b-d9fe-9aab56a2bfdb"
      },
      "execution_count": 98,
      "outputs": [
        {
          "output_type": "stream",
          "name": "stdout",
          "text": [
            "user: 1          item: 90         r_ui = None   est = 3.63   {'was_impossible': False}\n"
          ]
        }
      ]
    },
    {
      "cell_type": "code",
      "source": [
        "el = testset[100]\n",
        "el"
      ],
      "metadata": {
        "colab": {
          "base_uri": "https://localhost:8080/"
        },
        "id": "p29-osMAwNm9",
        "outputId": "d346fce9-fdba-4b23-ebce-a669057b8f16"
      },
      "execution_count": 111,
      "outputs": [
        {
          "output_type": "execute_result",
          "data": {
            "text/plain": [
              "('242', '305', 5.0)"
            ]
          },
          "metadata": {},
          "execution_count": 111
        }
      ]
    },
    {
      "cell_type": "code",
      "source": [
        "pred = algo.predict(el[0], el[1], el[2], verbose=True)"
      ],
      "metadata": {
        "colab": {
          "base_uri": "https://localhost:8080/"
        },
        "id": "RMLPFKt5wcgS",
        "outputId": "9aa5a2c1-cb19-4d01-8b4b-89336f84d24c"
      },
      "execution_count": 112,
      "outputs": [
        {
          "output_type": "stream",
          "name": "stdout",
          "text": [
            "user: 242        item: 305        r_ui = 5.00   est = 4.09   {'was_impossible': False}\n"
          ]
        }
      ]
    }
  ]
}